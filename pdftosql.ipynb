{
 "cells": [
  {
   "cell_type": "code",
   "execution_count": 1,
   "metadata": {},
   "outputs": [
    {
     "name": "stdout",
     "output_type": "stream",
     "text": [
      "Requirement already satisfied: PyPDF2 in c:\\users\\hp\\appdata\\local\\programs\\python\\python312\\lib\\site-packages (3.0.1)\n"
     ]
    },
    {
     "name": "stderr",
     "output_type": "stream",
     "text": [
      "\n",
      "[notice] A new release of pip is available: 23.3.2 -> 24.0\n",
      "[notice] To update, run: python.exe -m pip install --upgrade pip\n"
     ]
    }
   ],
   "source": [
    "import sys\n",
    "!{sys.executable} -m pip install PyPDF2"
   ]
  },
  {
   "cell_type": "code",
   "execution_count": 33,
   "metadata": {},
   "outputs": [],
   "source": [
    "from PyPDF2 import PdfReader\n",
    "\n",
    "# Du texte a partir d'un fichier pdf \n",
    "\n",
    "pdf_url = \"C:/Users/HP/Desktop/garde-avril-2024.pdf\"\n",
    "reader = PdfReader(pdf_url)\n",
    "page_one = reader.pages[0].extract_text()\n",
    "\n"
   ]
  },
  {
   "cell_type": "code",
   "execution_count": 42,
   "metadata": {},
   "outputs": [],
   "source": [
    "import re\n",
    "\n",
    "pahrmacies = []\n",
    "\n",
    "pattern = r'PHCIE\\s(.*?)/\\s*(M\\.|MME)\\s*(.*?\\s*)\\s*TEL\\.?\\s*:?([\\d\\s/]+)'\n",
    "matches = re.finditer(pattern, page_one, re.DOTALL)\n",
    "for match in matches:\n",
    "    pharmacy_name = match.group(1).strip()\n",
    "    # Rajouter Pharmacie au debut du nom\n",
    "    pharmacy_name = f'Pharmacie {pharmacy_name}'\n",
    "    title = match.group(2).strip()\n",
    "    responsible_name = match.group(3).strip()\n",
    "    phone_numbers = match.group(4).strip().replace('/', ', ')\n",
    "    # print(f'Pharmacy: {pharmacy_name}')\n",
    "    # print(f'Responsible: {title} {responsible_name}')\n",
    "    # print(f'Phone Numbers: {phone_numbers}')\n",
    "    # print('-' * 40)\n",
    "    pahrmacies.append([pharmacy_name, title, responsible_name, phone_numbers])"
   ]
  },
  {
   "cell_type": "code",
   "execution_count": 30,
   "metadata": {},
   "outputs": [
    {
     "name": "stdout",
     "output_type": "stream",
     "text": [
      "Collecting geopy"
     ]
    },
    {
     "name": "stderr",
     "output_type": "stream",
     "text": [
      "\n",
      "[notice] A new release of pip is available: 23.3.2 -> 24.0\n",
      "[notice] To update, run: python.exe -m pip install --upgrade pip\n"
     ]
    },
    {
     "name": "stdout",
     "output_type": "stream",
     "text": [
      "\n",
      "  Downloading geopy-2.4.1-py3-none-any.whl.metadata (6.8 kB)\n",
      "Collecting geographiclib<3,>=1.52 (from geopy)\n",
      "  Downloading geographiclib-2.0-py3-none-any.whl.metadata (1.4 kB)\n",
      "Downloading geopy-2.4.1-py3-none-any.whl (125 kB)\n",
      "   ---------------------------------------- 0.0/125.4 kB ? eta -:--:--\n",
      "   ------ --------------------------------- 20.5/125.4 kB ? eta -:--:--\n",
      "   ------ --------------------------------- 20.5/125.4 kB ? eta -:--:--\n",
      "   ------ --------------------------------- 20.5/125.4 kB ? eta -:--:--\n",
      "   ------ --------------------------------- 20.5/125.4 kB ? eta -:--:--\n",
      "   ------ --------------------------------- 20.5/125.4 kB ? eta -:--:--\n",
      "   ------ --------------------------------- 20.5/125.4 kB ? eta -:--:--\n",
      "   --------------- ----------------------- 51.2/125.4 kB 105.0 kB/s eta 0:00:01\n",
      "   --------------- ----------------------- 51.2/125.4 kB 105.0 kB/s eta 0:00:01\n",
      "   --------------- ----------------------- 51.2/125.4 kB 105.0 kB/s eta 0:00:01\n",
      "   --------------- ----------------------- 51.2/125.4 kB 105.0 kB/s eta 0:00:01\n",
      "   --------------- ----------------------- 51.2/125.4 kB 105.0 kB/s eta 0:00:01\n",
      "   --------------- ----------------------- 51.2/125.4 kB 105.0 kB/s eta 0:00:01\n",
      "   --------------- ----------------------- 51.2/125.4 kB 105.0 kB/s eta 0:00:01\n",
      "   --------------- ----------------------- 51.2/125.4 kB 105.0 kB/s eta 0:00:01\n",
      "   --------------- ----------------------- 51.2/125.4 kB 105.0 kB/s eta 0:00:01\n",
      "   --------------- ----------------------- 51.2/125.4 kB 105.0 kB/s eta 0:00:01\n",
      "   -------------------------------------  122.9/125.4 kB 122.3 kB/s eta 0:00:01\n",
      "   -------------------------------------- 125.4/125.4 kB 120.9 kB/s eta 0:00:00\n",
      "Downloading geographiclib-2.0-py3-none-any.whl (40 kB)\n",
      "   ---------------------------------------- 0.0/40.3 kB ? eta -:--:--\n",
      "   ---------------------------------------- 40.3/40.3 kB 1.9 MB/s eta 0:00:00\n",
      "Installing collected packages: geographiclib, geopy\n",
      "Successfully installed geographiclib-2.0 geopy-2.4.1\n"
     ]
    }
   ],
   "source": [
    "!{sys.executable} -m pip install geopy\n"
   ]
  },
  {
   "cell_type": "code",
   "execution_count": 43,
   "metadata": {},
   "outputs": [
    {
     "name": "stdout",
     "output_type": "stream",
     "text": [
      "Location for Pharmacie du Centre: (5.434002, -4.0266186)\n"
     ]
    }
   ],
   "source": [
    "from geopy.geocoders import Nominatim\n",
    "\n",
    "def get_geolocation_osm(pharmacy_name):\n",
    "    # Initialisation du géocodeur avec le système Nominatim\n",
    "    geolocator = Nominatim(user_agent=\"geoapiExercises\")\n",
    "    \n",
    "    # Recherche de la pharmacie\n",
    "    location = geolocator.geocode(pharmacy_name + ', Côte d\\'Ivoire')  # Ajoutez le pays pour plus de précision\n",
    "    \n",
    "    if location:\n",
    "        return (location.latitude, location.longitude)\n",
    "    else:\n",
    "        return \"Location not found\"\n",
    "\n",
    "# Exemple d'utilisation\n",
    "pharmacy_name = 'Pharmacie du Centre'\n",
    "location = get_geolocation_osm(pharmacy_name)\n",
    "print(f'Location for {pharmacy_name}: {location}')"
   ]
  },
  {
   "cell_type": "code",
   "execution_count": 44,
   "metadata": {},
   "outputs": [
    {
     "name": "stdout",
     "output_type": "stream",
     "text": [
      "['Pharmacie DU CENTRE', 'M.', 'OUATTARA YACOUBA MARIUS  –', '07 47 85 90 09,  01 40 27 54 76,  05 85 02 61 52 , ', 5.434002, -4.0266186]\n",
      "['Pharmacie ABOBO SANTE', 'M.', 'HOMAWOO KOUAME CHARLES -', '07 49 21 83 12 ,  27 24 39 13 84', 5.3238339, -4.0366521]\n",
      "['Pharmacie DIVINE ESPERANCE', 'MME', 'APATA BOGLO PELAGIE  –', '27 24 39 78 92 ,   07 08 69 43 23 ,  01 02 03 90 90 , ', 5.4244356, -4.0239055]\n",
      "['Pharmacie AMINA', 'M.', 'KOISSY KPEIN SERGE –', '07 07 90 36 82 ,  07 57 48 94 47', 5.4397383, -4.0228494]\n",
      "['Pharmacie QUATRE ETAGES', 'MME', 'TRAORE BONI DESIREE  -', '27 24 39 06 62', 'L', 'o']\n",
      "['Pharmacie ST FRANCOIS XAVIER', 'M.', 'YAPI HONORE -', '05 76 51 65 64', 5.4327675, -4.0147336]\n",
      "['Pharmacie ABOBO CLOUETCHA', 'M.', 'TEA BOUCHOU GERARD  –', '07 57 48 53 89 ,  07 57 12 33 13  , ', 5.4229613, -4.0029147]\n",
      "['Pharmacie PRINCIPALE D’ABOBOTE  (NLLE)', 'MME', '. K OUAME LINDA EPSE OURAGA  –', '07 09 84 68 91 ,  01 02 37 06 15', 'L', 'o']\n",
      "['Pharmacie AZUR', 'M.', 'CHINTOH ARMSTRONG -', '07 59 85 10 59 ,  01 40 27 50 02', 5.3994623, -4.0064229]\n",
      "['Pharmacie LA PROVIDENCE', 'MME', 'DOH JOCELYNE -', '07 09 86 26 38 ,  07 07 52 35 27', 5.3486342, -4.0168001]\n",
      "['Pharmacie RACINES', 'M.', 'BROU KOMENAN MARTIN  –', '07 88 77 37 67  , ', 5.41329, -4.0099567]\n",
      "['Pharmacie ZANON PIERRE', 'MME', 'ZANON GISELE -', '07 48 05 91 89 ,  07 48 05 90 76', 'L', 'o']\n",
      "['Pharmacie MILIE HEVIE', 'M.', 'KOUAO AKA -', '27 24 39 04 00 , ', 5.4477783, -4.0507076]\n",
      "['Pharmacie OLYMPIQUE', 'M.', 'COULIBALY KAFANA DANIEL -', '01 02 27 56 13 ,  07 07 89 99 44', 5.4390365, -4.0683042]\n",
      "['Pharmacie ESPERANCE', 'M.', 'GOHEAN DOHO BERTIN  –', '07 78 18 18 59 ,  27 24 52 95 01', 5.8330223, -5.3596694]\n",
      "['Pharmacie N’DOTRE PALMERAIE 2', 'M.', 'TAGOUA AUGUSTIN -', '05 55 47 53 55 ,  01 02 13 93 96  , ', 'L', 'o']\n",
      "['Pharmacie CONCORDE PK 18', 'MME', 'KOUMARE FATOUMATA EPSE BAMBA –', '27 24 33 23 87 ,  07 79 76 04 28 ,   \\n05 74 13 37 22 , ', 'L', 'o']\n",
      "['Pharmacie CARREFO UR KOBAKRO', 'M.', 'BASSA KOUADIO MARTIAL  –', '07 12 38 68 31', 'L', 'o']\n",
      "['Pharmacie DU MARCHE D’ANYAMA', 'MME', 'DAH OLGA MOUSSOKORO EPSE DOSSO –', '27 23 55 82 30 ,  31', 5.4954331, -4.0519162]\n",
      "['Pharmacie ME DEBA', 'MME', 'ME DEBA YOVOSSI EVELYNE –', '27 23 55 62 44 ,  01 01 05 26 44  ,  07 89 95 00 90', 'L', 'o']\n",
      "['Pharmacie ROUTE D’ANYAMA  (NVLLE)', 'M.', 'M’BAO AKMEL HYACINTHE  –', '01 52 78 88 33', 'L', 'o']\n"
     ]
    }
   ],
   "source": [
    "for pharmacie in pahrmacies:\n",
    "    pharmacy_name = pharmacie[0]\n",
    "    location = get_geolocation_osm(pharmacy_name)\n",
    "    pharmacie.append(location[0])\n",
    "    pharmacie.append(location[1])\n",
    "    print(pharmacie)"
   ]
  }
 ],
 "metadata": {
  "kernelspec": {
   "display_name": "Python 3",
   "language": "python",
   "name": "python3"
  },
  "language_info": {
   "codemirror_mode": {
    "name": "ipython",
    "version": 3
   },
   "file_extension": ".py",
   "mimetype": "text/x-python",
   "name": "python",
   "nbconvert_exporter": "python",
   "pygments_lexer": "ipython3",
   "version": "3.12.0"
  }
 },
 "nbformat": 4,
 "nbformat_minor": 2
}
