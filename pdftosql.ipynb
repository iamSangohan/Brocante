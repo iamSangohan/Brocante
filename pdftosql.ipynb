{
 "cells": [
  {
   "cell_type": "code",
   "execution_count": 49,
   "metadata": {},
   "outputs": [
    {
     "name": "stdout",
     "output_type": "stream",
     "text": [
      "Requirement already satisfied: PyPDF2 in c:\\users\\hp\\appdata\\local\\programs\\python\\python312\\lib\\site-packages (3.0.1)"
     ]
    },
    {
     "name": "stderr",
     "output_type": "stream",
     "text": [
      "\n",
      "[notice] A new release of pip is available: 23.3.2 -> 24.0\n",
      "[notice] To update, run: python.exe -m pip install --upgrade pip\n"
     ]
    },
    {
     "name": "stdout",
     "output_type": "stream",
     "text": [
      "\n"
     ]
    }
   ],
   "source": [
    "import sys\n",
    "!{sys.executable} -m pip install PyPDF2"
   ]
  },
  {
   "cell_type": "code",
   "execution_count": 50,
   "metadata": {},
   "outputs": [],
   "source": [
    "from PyPDF2 import PdfReader\n",
    "\n",
    "# Du texte a partir d'un fichier pdf \n",
    "\n",
    "pdf_url = \"C:/Users/HP/Desktop/garde-avril-2024.pdf\"\n",
    "reader = PdfReader(pdf_url)\n",
    "page_one = reader.pages[0].extract_text()\n",
    "\n"
   ]
  },
  {
   "cell_type": "code",
   "execution_count": 60,
   "metadata": {},
   "outputs": [],
   "source": [
    "import re\n",
    "\n",
    "pahrmacies = []\n",
    "\n",
    "pattern = r'PHCIE\\s(.*?)/\\s*(M\\.|MME)\\s*(.*?\\s*)\\s*TEL\\.?\\s*:?([\\d\\s/]+)'\n",
    "matches = re.finditer(pattern, page_one, re.DOTALL)\n",
    "for match in matches:\n",
    "    pharmacy_name = match.group(1).strip()\n",
    "    # Rajouter Pharmacie au debut du nom\n",
    "    pharmacy_name = f'Pharmacie {pharmacy_name}'\n",
    "    title = match.group(2).strip()\n",
    "    responsible_name = f'{title} {match.group(3).strip()}'\n",
    "    phone_numbers = match.group(4).strip().replace('/', ', ')\n",
    "    # print(f'Pharmacy: {pharmacy_name}')\n",
    "    # print(f'Responsible: {title} {responsible_name}')\n",
    "    # print(f'Phone Numbers: {phone_numbers}')\n",
    "    # print('-' * 40)\n",
    "    pahrmacies.append([pharmacy_name, responsible_name, phone_numbers])"
   ]
  },
  {
   "cell_type": "code",
   "execution_count": 52,
   "metadata": {},
   "outputs": [
    {
     "name": "stdout",
     "output_type": "stream",
     "text": [
      "Requirement already satisfied: geopy in c:\\users\\hp\\appdata\\local\\programs\\python\\python312\\lib\\site-packages (2.4.1)\n",
      "Requirement already satisfied: geographiclib<3,>=1.52 in c:\\users\\hp\\appdata\\local\\programs\\python\\python312\\lib\\site-packages (from geopy) (2.0)\n"
     ]
    },
    {
     "name": "stderr",
     "output_type": "stream",
     "text": [
      "\n",
      "[notice] A new release of pip is available: 23.3.2 -> 24.0\n",
      "[notice] To update, run: python.exe -m pip install --upgrade pip\n"
     ]
    }
   ],
   "source": [
    "!{sys.executable} -m pip install geopy\n"
   ]
  },
  {
   "cell_type": "code",
   "execution_count": 59,
   "metadata": {},
   "outputs": [
    {
     "name": "stdout",
     "output_type": "stream",
     "text": [
      "Location for Pharmacie du Centre: (5.434002, -4.0266186)\n"
     ]
    }
   ],
   "source": [
    "from geopy.geocoders import Nominatim\n",
    "\n",
    "def get_geolocation_osm(pharmacy_name):\n",
    "    # Initialisation du géocodeur avec le système Nominatim\n",
    "    geolocator = Nominatim(user_agent=\"geoapiExercise\")\n",
    "    \n",
    "    # Recherche de la pharmacie\n",
    "    location = geolocator.geocode(pharmacy_name + ', Côte d\\'Ivoire')  # Ajoutez le pays pour plus de précision\n",
    "    \n",
    "    if location:\n",
    "        return (location.latitude, location.longitude)\n",
    "    else:\n",
    "        return \"Location not found\"\n",
    "\n",
    "# Exemple d'utilisation\n",
    "pharmacy_name = 'Pharmacie du Centre'\n",
    "location = get_geolocation_osm(pharmacy_name)\n",
    "print(f'Location for {pharmacy_name}: {location}')"
   ]
  },
  {
   "cell_type": "code",
   "execution_count": 61,
   "metadata": {},
   "outputs": [
    {
     "name": "stdout",
     "output_type": "stream",
     "text": [
      "Pharmacie DU CENTRE\n",
      "['Pharmacie DU CENTRE', 'M. OUATTARA YACOUBA MARIUS  –', '07 47 85 90 09,  01 40 27 54 76,  05 85 02 61 52 , ', 5.434002, -4.0266186]\n",
      "Pharmacie ABOBO SANTE\n",
      "['Pharmacie ABOBO SANTE', 'M. HOMAWOO KOUAME CHARLES -', '07 49 21 83 12 ,  27 24 39 13 84', 5.3238713, -4.0365757]\n",
      "Pharmacie DIVINE ESPERANCE\n",
      "['Pharmacie DIVINE ESPERANCE', 'MME APATA BOGLO PELAGIE  –', '27 24 39 78 92 ,   07 08 69 43 23 ,  01 02 03 90 90 , ', 5.4243735, -4.0238222]\n",
      "Pharmacie AMINA\n",
      "['Pharmacie AMINA', 'M. KOISSY KPEIN SERGE –', '07 07 90 36 82 ,  07 57 48 94 47', 5.4399094, -4.022789]\n",
      "Pharmacie QUATRE ETAGES\n",
      "['Pharmacie QUATRE ETAGES', 'MME TRAORE BONI DESIREE  -', '27 24 39 06 62', 'L', 'o']\n",
      "Pharmacie ST FRANCOIS XAVIER\n",
      "['Pharmacie ST FRANCOIS XAVIER', 'M. YAPI HONORE -', '05 76 51 65 64', 5.4327675, -4.0147336]\n",
      "Pharmacie ABOBO CLOUETCHA\n",
      "['Pharmacie ABOBO CLOUETCHA', 'M. TEA BOUCHOU GERARD  –', '07 57 48 53 89 ,  07 57 12 33 13  , ', 5.4229613, -4.0029147]\n",
      "Pharmacie PRINCIPALE D’ABOBOTE  (NLLE)\n",
      "['Pharmacie PRINCIPALE D’ABOBOTE  (NLLE)', 'MME . K OUAME LINDA EPSE OURAGA  –', '07 09 84 68 91 ,  01 02 37 06 15', 'L', 'o']\n",
      "Pharmacie AZUR\n",
      "['Pharmacie AZUR', 'M. CHINTOH ARMSTRONG -', '07 59 85 10 59 ,  01 40 27 50 02', 5.3994644, -4.0064646]\n",
      "Pharmacie LA PROVIDENCE\n",
      "['Pharmacie LA PROVIDENCE', 'MME DOH JOCELYNE -', '07 09 86 26 38 ,  07 07 52 35 27', 5.3486342, -4.0168001]\n",
      "Pharmacie RACINES\n",
      "['Pharmacie RACINES', 'M. BROU KOMENAN MARTIN  –', '07 88 77 37 67  , ', 5.41329, -4.0099567]\n",
      "Pharmacie ZANON PIERRE\n",
      "['Pharmacie ZANON PIERRE', 'MME ZANON GISELE -', '07 48 05 91 89 ,  07 48 05 90 76', 'L', 'o']\n",
      "Pharmacie MILIE HEVIE\n",
      "['Pharmacie MILIE HEVIE', 'M. KOUAO AKA -', '27 24 39 04 00 , ', 5.4477783, -4.0507076]\n",
      "Pharmacie OLYMPIQUE\n",
      "['Pharmacie OLYMPIQUE', 'M. COULIBALY KAFANA DANIEL -', '01 02 27 56 13 ,  07 07 89 99 44', 5.4390365, -4.0683042]\n",
      "Pharmacie ESPERANCE\n",
      "['Pharmacie ESPERANCE', 'M. GOHEAN DOHO BERTIN  –', '07 78 18 18 59 ,  27 24 52 95 01', 5.8330223, -5.3596694]\n",
      "Pharmacie N’DOTRE PALMERAIE 2\n",
      "['Pharmacie N’DOTRE PALMERAIE 2', 'M. TAGOUA AUGUSTIN -', '05 55 47 53 55 ,  01 02 13 93 96  , ', 'L', 'o']\n",
      "Pharmacie CONCORDE PK 18\n",
      "['Pharmacie CONCORDE PK 18', 'MME KOUMARE FATOUMATA EPSE BAMBA –', '27 24 33 23 87 ,  07 79 76 04 28 ,   \\n05 74 13 37 22 , ', 'L', 'o']\n",
      "Pharmacie CARREFO UR KOBAKRO\n",
      "['Pharmacie CARREFO UR KOBAKRO', 'M. BASSA KOUADIO MARTIAL  –', '07 12 38 68 31', 'L', 'o']\n",
      "Pharmacie DU MARCHE D’ANYAMA\n",
      "['Pharmacie DU MARCHE D’ANYAMA', 'MME DAH OLGA MOUSSOKORO EPSE DOSSO –', '27 23 55 82 30 ,  31', 5.4954331, -4.0519162]\n",
      "Pharmacie ME DEBA\n",
      "['Pharmacie ME DEBA', 'MME ME DEBA YOVOSSI EVELYNE –', '27 23 55 62 44 ,  01 01 05 26 44  ,  07 89 95 00 90', 'L', 'o']\n",
      "Pharmacie ROUTE D’ANYAMA  (NVLLE)\n",
      "['Pharmacie ROUTE D’ANYAMA  (NVLLE)', 'M. M’BAO AKMEL HYACINTHE  –', '01 52 78 88 33', 'L', 'o']\n"
     ]
    }
   ],
   "source": [
    "for pharmacie in pahrmacies:\n",
    "    pharmacy_name = pharmacie[0]\n",
    "    location = get_geolocation_osm(pharmacy_name)\n",
    "    pharmacie.append(location[0])\n",
    "    pharmacie.append(location[1])\n",
    "    print(pharmacie)"
   ]
  }
 ],
 "metadata": {
  "kernelspec": {
   "display_name": "Python 3",
   "language": "python",
   "name": "python3"
  },
  "language_info": {
   "codemirror_mode": {
    "name": "ipython",
    "version": 3
   },
   "file_extension": ".py",
   "mimetype": "text/x-python",
   "name": "python",
   "nbconvert_exporter": "python",
   "pygments_lexer": "ipython3",
   "version": "3.12.0"
  }
 },
 "nbformat": 4,
 "nbformat_minor": 2
}
