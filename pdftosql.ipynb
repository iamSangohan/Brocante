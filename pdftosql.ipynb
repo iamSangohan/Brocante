{
 "cells": [
  {
   "cell_type": "code",
   "execution_count": 1,
   "metadata": {},
   "outputs": [
    {
     "name": "stdout",
     "output_type": "stream",
     "text": [
      "Collecting PyPDF2\n",
      "  Downloading pypdf2-3.0.1-py3-none-any.whl.metadata (6.8 kB)\n",
      "Downloading pypdf2-3.0.1-py3-none-any.whl (232 kB)\n",
      "   ---------------------------------------- 0.0/232.6 kB ? eta -:--:--\n",
      "   ---------------------------------------- 0.0/232.6 kB ? eta -:--:--\n",
      "   - -------------------------------------- 10.2/232.6 kB ? eta -:--:--\n",
      "   - -------------------------------------- 10.2/232.6 kB ? eta -:--:--\n",
      "   - -------------------------------------- 10.2/232.6 kB ? eta -:--:--\n",
      "   - -------------------------------------- 10.2/232.6 kB ? eta -:--:--\n",
      "   ----- --------------------------------- 30.7/232.6 kB 119.1 kB/s eta 0:00:02\n",
      "   ----- --------------------------------- 30.7/232.6 kB 119.1 kB/s eta 0:00:02\n",
      "   ------ -------------------------------- 41.0/232.6 kB 115.5 kB/s eta 0:00:02\n",
      "   ---------- ---------------------------- 61.4/232.6 kB 163.6 kB/s eta 0:00:02\n",
      "   --------------- ----------------------- 92.2/232.6 kB 201.8 kB/s eta 0:00:01\n",
      "   --------------- ----------------------- 92.2/232.6 kB 201.8 kB/s eta 0:00:01\n",
      "   --------------- ----------------------- 92.2/232.6 kB 201.8 kB/s eta 0:00:01\n",
      "   --------------- ----------------------- 92.2/232.6 kB 201.8 kB/s eta 0:00:01\n",
      "   -------------------- ----------------- 122.9/232.6 kB 189.6 kB/s eta 0:00:01\n",
      "   ------------------------- ------------ 153.6/232.6 kB 223.7 kB/s eta 0:00:01\n",
      "   ---------------------------- --------- 174.1/232.6 kB 255.6 kB/s eta 0:00:01\n",
      "   ------------------------------- ------ 194.6/232.6 kB 267.9 kB/s eta 0:00:01\n",
      "   -------------------------------------- 232.6/232.6 kB 290.2 kB/s eta 0:00:00\n",
      "Installing collected packages: PyPDF2\n",
      "Successfully installed PyPDF2-3.0.1\n"
     ]
    },
    {
     "name": "stderr",
     "output_type": "stream",
     "text": [
      "\n",
      "[notice] A new release of pip is available: 23.3.2 -> 24.0\n",
      "[notice] To update, run: python.exe -m pip install --upgrade pip\n"
     ]
    }
   ],
   "source": [
    "import sys\n",
    "!{sys.executable} -m pip install PyPDF2"
   ]
  },
  {
   "cell_type": "code",
   "execution_count": 2,
   "metadata": {},
   "outputs": [
    {
     "data": {
      "text/plain": [
       "\" \\n   \\nGARDE MOIS D E MARS  2024    \\n \\nSEMAINE DU SAMEDI 02 AU VENDREDI 08 MARS  2024 \\nPermanence 24 h/24 h   \\nABOBO         \\n \\nPHCIE DU CENTRE / M. OUATTARA YACOUBA MARIUS  – TEL. 07 47 85 90 09/ 01 40 27 54 76/ 05 85 02 61 52 / ABOBO \\nAVOCATIER VOIE EXPRESS AN YAMA PRES DE L’HOTEL DU CENTRE ET DE L’EGLISE UNIVERSELLE DU ROYAUME DE DIEU  \\nPHCIE ABOBO SANTE / M. HOMAWOO KOUAME CHARLES - TEL. 07 49 21 83 12 / 27 24 39 13 84  \\nEN FACE DE L’HOPITAL GENERAL D’ABOBO SUD, A COTE DU GRAND MARCHE  \\nPHCIE DIVINE ESPERANCE /  MME  APATA BOGLO PELAGIE  – TEL. 27 24 39 78 92 /  07 08 69 43 23 / 01 02 03 90 90 /  \\nABOBO SAGBE ENTRE PAROISSE ST JOSEPH EPOUX ET COMMISSARIAT DU 21EME ARRONDT.  \\nPHCIE AMINA / M. KOISSY KPEIN SERGE – TEL. 07 07 90 36 82 / 07 57 48 94 47  \\nABOBO AVOCATIER / PRES  MATERNITE HENRIETTE KONAN BEDIE PRES DU MARCHE AVOCATIER  \\nPHCIE QUATRE ETAGES/ MME TRAORE BONI DESIREE  - TEL 27 24 39 06 62  \\nEN FACE DES 4 ETAGES ET A 100 M DE L’HOPITAL GENERAL D'ABOBO NORD  \\nPHCIE ST FRANCOIS XAVIER / M. YAPI HONORE - TEL. 05 76 51 65 64 \\nABOBO SOGEFIHA / 300 M DU 15 EME ARRONDISSEMENT   \\nPHCIE ABOBO CLOUETCHA / M. TEA BOUCHOU GERARD  – TEL : 07 57 48 53 89 / 07 57 12 33 13  /  \\nABOBO KENNEDY QUARTIER CLOUETCHA CARREFOUR ANCIENNE BOULA NGERIE NON LOIN DU MARCHE  \\nPHCIE PRINCIPALE D’ABOBOTE  (NLLE) / MME. K OUAME LINDA EPSE OURAGA  – TEL : 07 09 84 68 91 / 01 02 37 06 15  \\nPETIT MARCHE D’ABOBOTE / PRES DE LA GARE DES TAXIS WORO WORO  \\nPHCIE AZUR / M. CHINTOH ARMSTRONG - TEL. 07 59 85 10 59 / 01 40 27 50 02  \\nROUTE DU ZOO PLATEAU DOKUI AZUR / CARREFOUR POLICIER  \\nPHCIE  LA PROVIDENCE / MME DOH JOCELYNE - TEL. 07 09 86 26 38 / 07 07 52 35 27  \\nQUARTIER BANCO / 1er ARRET SOTRA / DEBUT AUTOROUTE ANYAMA  \\nPHCIE RACINES  / M. BROU KOMENAN MARTIN  –TEL. 07 88 77 37 67  /  \\nSITUEE ENTRE COOPEC  SAMANKE ET HOPITAL ABOBO BANCO SUD  \\nPHCIE ZANON PIERRE  / MME ZANON GISELE - TEL. 07 48 05 91 89 / 07 48 05 90 76  \\nABOBO BAOULE ROUTE D’ALEPE CARREFOUR MOSQUEE EN FACE DU SUPERMARCHE BON PRIX  \\nABOBO PK 18  \\n \\nPHCIE SAFIR / MLLE TOLO AWA - TEL. 07 09 86 26 35 / 05 05 83 54 83   \\nPK 18 / ROUTE D’ANYAMA / DERRIERE PONT / PLACE ANCIENNE BOULANGERIE ROUTE NDOTRE  \\nPHCIE  N’DOTRE / M. DIBY N ’GUESSAN FIRMIN - TEL. 07 47 51 81 67   \\nABOBO AXE NDOTRE ANYAMA / ENVIRON 600 M CARREFOUR NDOTRE  \\nPHCIE  ST ALEXANDRE / MME KOFFI AFFOUO DOMINIQUE -ELISABETH - TEL. 07 59 04 35 42 / 01 40 29 69 84 \\nEN ALLANT AU BOIS SEC/  A L'ENTREE PRINCIPALE DE LA CITE SICOGI CONCORDE.   \\nPHCIE SYNOVIE  / M. ASSAMOI BOITRIN PASCAL - TEL.  01 03 91 08 54 / 07 98 74 61 89 /  27 36 85 75 24  \\nABOBO N’DOTRE EN FACE MARCHE GOURO  \\n   ANYAMA  \\nPHCIE D'ANYAMA / MME KEBE SEREBA - TEL. 27 23 55 94 18  \\nPHCIE ELIEL / M.ATSE ASSI RODRIGUE – TEL. 27 33 73 73 56 / 07 69 74 22 69 / ANYAMA Q UAR TIER RAN FACE A LA GARE  \\nPHCIE DU CARREFOUR ANCIENNE GENDARMERIE/ M. KONAN FIRMIN DANIEL/ TEL. 27 22 55 64 26  \\nBATIMENT ANCIENNE GENDARMERIE ENTRE USINE UNICAFE ET LA MORGUE D’ANYAMA  \\nALEPE / MONTEZO / BROFODOUME  \\nPHCIE DES GENERATIONS DE MONTEZO  / M.  BONI ALEX  – TEL. 07 57 49 38 47/ 07 07 40 47 08 \\n \\n \""
      ]
     },
     "execution_count": 2,
     "metadata": {},
     "output_type": "execute_result"
    }
   ],
   "source": [
    "from PyPDF2 import PdfReader\n",
    "\n",
    "# Du texte a partir d'un fichier pdf \n",
    "\n",
    "pdf_url = \"C:/Users/HP/Desktop/garde-mars--2024.pdf\"\n",
    "reader = PdfReader(pdf_url)\n",
    "page_one = reader.pages[0].extract_text()\n",
    "\n",
    "page_one\n"
   ]
  },
  {
   "cell_type": "code",
   "execution_count": 10,
   "metadata": {},
   "outputs": [
    {
     "name": "stdout",
     "output_type": "stream",
     "text": [
      "Nom de la pharmacie: PHCIE DU CENTRE\n",
      "Responsable: M. OUATTARA YACOUBA MARIUS\n",
      "Téléphones: 07 47 85 90 09\n",
      "Adresse: 01 40 27 54 76/ 05 85 02 61 52 / ABOBO \n",
      "AVOCATIER VOIE EX\n",
      "\n",
      "Nom de la pharmacie: PHCIE ABOBO SANTE\n",
      "Responsable: M. HOMAWOO KOUAME CHARLES - TEL. 07 49 21 83 12 / 27 24 39 13 84  \n",
      "EN FACE DE L’HOPITAL GENERAL D’ABOBO SUD, A COTE DU GRAND MARCHE  \n",
      "PHCIE DIVINE ESPERANCE /  MME  APATA BOGLO PELAGIE\n",
      "Téléphones: 27 24 39 78 92\n",
      "Adresse: 07 08 69 43 23 / 01 02 03 90 90 /  \n",
      "ABOBO SAGBE ENTRE \n",
      "\n",
      "Nom de la pharmacie: PHCIE AMINA\n",
      "Responsable: M. KOISSY KPEIN SERGE\n",
      "Téléphones: 07 07 90 36 82\n",
      "Adresse: 07 57 48 94 47  \n",
      "ABOBO AVOCATIER / \n",
      "\n",
      "Nom de la pharmacie: PHCIE ZANON PIERRE\n",
      "Responsable: MME ZANON GISELE - TEL. 07 48 05 91 89 / 07 48 05 90 76  \n",
      "ABOBO BAOULE ROUTE D’ALEPE CARREFOUR MOSQUEE EN FACE DU SUPERMARCHE BON PRIX  \n",
      "ABOBO PK 18  \n",
      " \n",
      "PHCIE SAFIR / MLLE TOLO AWA - TEL. 07 09 86 26 35 / 05 05 83 54 83   \n",
      "PK 18 / ROUTE D’ANYAMA / DERRIERE PONT / PLACE ANCIENNE BOULANGERIE ROUTE NDOTRE  \n",
      "PHCIE  N’DOTRE / M. DIBY N ’GUESSAN FIRMIN - TEL. 07 47 51 81 67   \n",
      "ABOBO AXE NDOTRE ANYAMA / ENVIRON 600 M CARREFOUR NDOTRE  \n",
      "PHCIE  ST ALEXANDRE / MME KOFFI AFFOUO DOMINIQUE -ELISABETH - TEL. 07 59 04 35 42 / 01 40 29 69 84 \n",
      "EN ALLANT AU BOIS SEC/  A L'ENTREE PRINCIPALE DE LA CITE SICOGI CONCORDE.   \n",
      "PHCIE SYNOVIE  / M. ASSAMOI BOITRIN PASCAL - TEL.  01 03 91 08 54 / 07 98 74 61 89 /  27 36 85 75 24  \n",
      "ABOBO N’DOTRE EN FACE MARCHE GOURO  \n",
      "   ANYAMA  \n",
      "PHCIE D'ANYAMA / MME KEBE SEREBA - TEL. 27 23 55 94 18  \n",
      "PHCIE ELIEL / M.ATSE ASSI RODRIGUE\n",
      "Téléphones: 27 33 73 73 56\n",
      "Adresse: 07 69 74 22 69 / ANYAMA Q UAR TIER RAN FACE A LA GARE  \n",
      "\n",
      "\n",
      "Nom de la pharmacie: PHCIE DU CARREFOUR ANCIENNE GENDARMERIE\n",
      "Responsable: M. KONAN FIRMIN DANIEL/ TEL. 27 22 55 64 26  \n",
      "BATIMENT ANCIENNE GENDARMERIE ENTRE USINE UNICAFE ET LA MORGUE D’ANYAMA  \n",
      "ALEPE / MONTEZO / BROFODOUME  \n",
      "PHCIE DES GENERATIONS DE MONTEZO  / M.  BONI ALEX\n",
      "Téléphones: 07 57 49 38 47\n",
      "Adresse: 07 07 40 47 08 \n",
      " \n",
      " \n",
      "\n"
     ]
    }
   ],
   "source": [
    "import re\n",
    "\n",
    "\n",
    "# Utilisation de l'expression régulière pour extraire la période\n",
    "pattern = r\"(PHCIE[^/]+?)\\s*\\/\\s*(M(?:\\.|ME)?[^–]+?)\\s*– TEL\\.\\s*([0-9 \\/]+?)\\s*\\/\\s*([^P]+)\"\n",
    "\n",
    "matches = re.findall(pattern, page_one, re.DOTALL)\n",
    "\n",
    "for match in matches:\n",
    "    print(f\"Nom de la pharmacie: {match[0]}\")\n",
    "    print(f\"Responsable: {match[1]}\")\n",
    "    print(f\"Téléphones: {match[2]}\")\n",
    "    print(f\"Adresse: {match[3]}\\n\")\n"
   ]
  },
  {
   "cell_type": "code",
   "execution_count": null,
   "metadata": {},
   "outputs": [],
   "source": []
  }
 ],
 "metadata": {
  "kernelspec": {
   "display_name": "Python 3",
   "language": "python",
   "name": "python3"
  },
  "language_info": {
   "codemirror_mode": {
    "name": "ipython",
    "version": 3
   },
   "file_extension": ".py",
   "mimetype": "text/x-python",
   "name": "python",
   "nbconvert_exporter": "python",
   "pygments_lexer": "ipython3",
   "version": "3.12.0"
  }
 },
 "nbformat": 4,
 "nbformat_minor": 2
}
