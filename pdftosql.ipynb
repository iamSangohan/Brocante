{
 "cells": [
  {
   "cell_type": "code",
   "execution_count": 1,
   "metadata": {},
   "outputs": [
    {
     "name": "stdout",
     "output_type": "stream",
     "text": [
      "Requirement already satisfied: PyPDF2 in c:\\users\\hp\\appdata\\local\\programs\\python\\python312\\lib\\site-packages (3.0.1)\n"
     ]
    },
    {
     "name": "stderr",
     "output_type": "stream",
     "text": [
      "\n",
      "[notice] A new release of pip is available: 23.3.2 -> 24.0\n",
      "[notice] To update, run: python.exe -m pip install --upgrade pip\n"
     ]
    }
   ],
   "source": [
    "import sys\n",
    "!{sys.executable} -m pip install PyPDF2"
   ]
  },
  {
   "cell_type": "code",
   "execution_count": 4,
   "metadata": {},
   "outputs": [
    {
     "data": {
      "text/plain": [
       "\" \\nGARDE MOIS D ’AVRIL  2024    \\n \\nSEMAINE DU SAMEDI 06 AU VENDREDI 12 AVRIL  2024 \\nPermanence 24 h/24 h   \\nABOBO         \\n \\nPHCIE DU CENTRE / M. OUATTARA YACOUBA MARIUS  – TEL. 07 47 85 90 09/ 01 40 27 54 76/ 05 85 02 61 52 / ABOBO \\nAVOCATIER VOIE EXPRESS AN YAMA PRES DE L’HOTEL DU CENTRE ET DE L’EGLISE UNIVERSELLE DU ROYAUME DE DIEU  \\nPHCIE ABOBO SANTE / M. HOMAWOO KOUAME CHARLES - TEL. 07 49 21 83 12 / 27 24 39 13 84  \\nEN FACE DE L’HOPITAL GENERAL D’ABOBO SUD, A COTE DU GRAND MARCHE  \\nPHCIE DIVINE ESPERANCE /  MME  APATA BOGLO PELAGIE  – TEL. 27 24 39 78 92 /  07 08 69 43 23 / 01 02 03 90 90 /  \\nABOBO SAGBE ENTRE PAROISSE ST JOSEPH EPOUX ET COMMISSARIAT DU 21EME ARRONDT.  \\nPHCIE AMINA / M. KOISSY KPEIN SERGE – TEL. 07 07 90 36 82 / 07 57 48 94 47  \\nABOBO AVOCATIER / PRES  MATERNITE HENRIETTE KONAN BEDIE PRES DU MARCHE AVOCATIER  \\nPHCIE QUATRE ETAGES/ MME TRAORE BONI DESIREE  - TEL 27 24 39 06 62  \\nEN FACE DES 4 ETAGES ET A 100 M DE L’HOPITAL GENERAL D'ABOBO NORD  \\nPHCIE ST FRANCOIS XAVIER / M. YAPI HONORE - TEL. 05 76 51 65 64 \\nABOBO SOGEFIHA / 300 M DU 15 EME ARRONDISSEMENT   \\nPHCIE ABOBO CLOUETCHA / M. TEA BOUCHOU GERARD  – TEL : 07 57 48 53 89 / 07 57 12 33 13  /  \\nABOBO KENNEDY QUARTIER CLOUETCHA CARREFOUR ANCIENNE BOULA NGERIE NON LOIN DU MARCHE  \\nPHCIE PRINCIPALE D’ABOBOTE  (NLLE) / MME. K OUAME LINDA EPSE OURAGA  – TEL : 07 09 84 68 91 / 01 02 37 06 15  \\nPETIT MARCHE D’ABOBOTE / PRES DE LA GARE DES TAXIS WORO WORO  \\nPHCIE AZUR / M. CHINTOH ARMSTRONG - TEL. 07 59 85 10 59 / 01 40 27 50 02  \\nROUTE DU ZOO PLATEAU DOKUI AZUR / CARREFOUR POLICIER  \\nPHCIE  LA PROVIDENCE / MME DOH JOCELYNE - TEL. 07 09 86 26 38 / 07 07 52 35 27  \\nQUARTIER BANCO / 1er ARRET SOTRA / DEBUT AUTOROUTE ANYAMA  \\nPHCIE RACINES  / M. BROU KOMENAN MARTIN  –TEL. 07 88 77 37 67  /  \\nSITUEE ENTRE COOPEC  SAMANKE ET HOPITAL ABOBO BANCO SUD  \\nPHCIE ZANON PIERRE  / MME ZANON GISELE - TEL. 07 48 05 91 89 / 07 48 05 90 76  \\nABOBO BAOULE ROUTE D’ALEPE CARREFOUR MOSQUEE EN FACE DU SUPERMARCHE BON PRIX  \\nABOBO PK 18  \\n \\nPHCIE MILIE HEVIE / M. KOUAO AKA - TEL. 27 24 39 04 00 /  ROUTE D’ANYAMA  / PK 18 / TERMINUS BUS 76   \\nPHCIE  OLYMPIQUE / M. COULIBALY KAFANA DANIEL - TEL. 01 02 27 56 13 / 07 07 89 99 44   \\nABOBO NDOTRE A 300 M DU CARREFOUR NDOTRE ROUTE DE YOPOUGON  \\nPHCIE ESPERANCE  / M. GOHEAN DOHO BERTIN  – TEL. 07 78 18 18 59 / 27 24 52 95 01  \\nABOBO PK 18 AGOUETO CARREFOUR CMA  \\nPHCIE N’DOTRE PALMERAIE 2  / M. TAGOUA AUGUSTIN - TEL. 05 55 47 53 55 / 01 02 13 93 96  / ABOBO N’DOTRE DERRIERE \\nLE GROUPE SCOLAIRE GRACE JEANNE NON LOIN DE LA NOUVELLE FORMATION SANITAIRE EN CONSTRUCTION  \\nPHCIE CONCORDE PK 18/ MME KOUMARE FATOUMATA EPSE BAMBA – TEL. 27 24 33 23 87 / 07 79 76 04 28 /  \\n05 74 13 37 22 / ABOBO PK18 EN FACE DE LA CITE SICO GI CONCORDE 2 EN ALLANT A BOIS SEC  \\nPHCIE CARREFO UR KOBAKRO / M. BASSA KOUADIO MARTIAL  – TEL. 07 12 38 68 31  \\nCARREFOUR  KOBAKRO/ ROUTE EBIMPE  \\n   ANYAMA  \\nPHCIE DU MARCHE D’ANYAMA /  MME DAH OLGA MOUSSOKORO EPSE DOSSO – TEL. 27 23 55 82 30 / 31 – 05 06 24 63 65  \\nPHCIE ME DEBA / MME ME DEBA YOVOSSI EVELYNE – TEL. 27 23 55 62 44 / 01 01 05 26 44  / 07 89 95 00 90  \\nANYAMA EN FACE DU CARREFOUR CISSE (CARREFOUR POLICIER) A COTE DE BONI AUTO ECOLE  \\nPHCIE ROUTE D’ANYAMA  (NVLLE)  / M. M’BAO AKMEL HYACINTHE  – TEL.  01 52 78 88 33  \\nABOBO PK 18 FACE A LA SOCIETE OLAM (ex - UNICAFE) A 100M DE LA STATION PETROCI  \\nALEPE / MONTEZO / BROFODOUME  \\nPHCIE D’ALEPE  / M MOURAD OUSSENOU – TEL. 07 09 86 33 83  \""
      ]
     },
     "execution_count": 4,
     "metadata": {},
     "output_type": "execute_result"
    }
   ],
   "source": [
    "from PyPDF2 import PdfReader\n",
    "\n",
    "# Du texte a partir d'un fichier pdf \n",
    "\n",
    "pdf_url = \"C:/Users/HP/Desktop/garde-avril-2024.pdf\"\n",
    "reader = PdfReader(pdf_url)\n",
    "page_one = reader.pages[0].extract_text()\n",
    "\n",
    "page_one\n"
   ]
  },
  {
   "cell_type": "code",
   "execution_count": 29,
   "metadata": {},
   "outputs": [
    {
     "name": "stdout",
     "output_type": "stream",
     "text": [
      "Pharmacy: DU CENTRE\n",
      "Responsible: M. OUATTARA YACOUBA MARIUS  –\n",
      "Phone Numbers: 07 47 85 90 09,  01 40 27 54 76,  05 85 02 61 52 , \n",
      "----------------------------------------\n",
      "Pharmacy: ABOBO SANTE\n",
      "Responsible: M. HOMAWOO KOUAME CHARLES -\n",
      "Phone Numbers: 07 49 21 83 12 ,  27 24 39 13 84\n",
      "----------------------------------------\n",
      "Pharmacy: DIVINE ESPERANCE\n",
      "Responsible: MME APATA BOGLO PELAGIE  –\n",
      "Phone Numbers: 27 24 39 78 92 ,   07 08 69 43 23 ,  01 02 03 90 90 , \n",
      "----------------------------------------\n",
      "Pharmacy: AMINA\n",
      "Responsible: M. KOISSY KPEIN SERGE –\n",
      "Phone Numbers: 07 07 90 36 82 ,  07 57 48 94 47\n",
      "----------------------------------------\n",
      "Pharmacy: QUATRE ETAGES\n",
      "Responsible: MME TRAORE BONI DESIREE  -\n",
      "Phone Numbers: 27 24 39 06 62\n",
      "----------------------------------------\n",
      "Pharmacy: ST FRANCOIS XAVIER\n",
      "Responsible: M. YAPI HONORE -\n",
      "Phone Numbers: 05 76 51 65 64\n",
      "----------------------------------------\n",
      "Pharmacy: ABOBO CLOUETCHA\n",
      "Responsible: M. TEA BOUCHOU GERARD  –\n",
      "Phone Numbers: 07 57 48 53 89 ,  07 57 12 33 13  , \n",
      "----------------------------------------\n",
      "Pharmacy: PRINCIPALE D’ABOBOTE  (NLLE)\n",
      "Responsible: MME . K OUAME LINDA EPSE OURAGA  –\n",
      "Phone Numbers: 07 09 84 68 91 ,  01 02 37 06 15\n",
      "----------------------------------------\n",
      "Pharmacy: AZUR\n",
      "Responsible: M. CHINTOH ARMSTRONG -\n",
      "Phone Numbers: 07 59 85 10 59 ,  01 40 27 50 02\n",
      "----------------------------------------\n",
      "Pharmacy: LA PROVIDENCE\n",
      "Responsible: MME DOH JOCELYNE -\n",
      "Phone Numbers: 07 09 86 26 38 ,  07 07 52 35 27\n",
      "----------------------------------------\n",
      "Pharmacy: RACINES\n",
      "Responsible: M. BROU KOMENAN MARTIN  –\n",
      "Phone Numbers: 07 88 77 37 67  , \n",
      "----------------------------------------\n",
      "Pharmacy: ZANON PIERRE\n",
      "Responsible: MME ZANON GISELE -\n",
      "Phone Numbers: 07 48 05 91 89 ,  07 48 05 90 76\n",
      "----------------------------------------\n",
      "Pharmacy: MILIE HEVIE\n",
      "Responsible: M. KOUAO AKA -\n",
      "Phone Numbers: 27 24 39 04 00 , \n",
      "----------------------------------------\n",
      "Pharmacy: OLYMPIQUE\n",
      "Responsible: M. COULIBALY KAFANA DANIEL -\n",
      "Phone Numbers: 01 02 27 56 13 ,  07 07 89 99 44\n",
      "----------------------------------------\n",
      "Pharmacy: ESPERANCE\n",
      "Responsible: M. GOHEAN DOHO BERTIN  –\n",
      "Phone Numbers: 07 78 18 18 59 ,  27 24 52 95 01\n",
      "----------------------------------------\n",
      "Pharmacy: N’DOTRE PALMERAIE 2\n",
      "Responsible: M. TAGOUA AUGUSTIN -\n",
      "Phone Numbers: 05 55 47 53 55 ,  01 02 13 93 96  , \n",
      "----------------------------------------\n",
      "Pharmacy: CONCORDE PK 18\n",
      "Responsible: MME KOUMARE FATOUMATA EPSE BAMBA –\n",
      "Phone Numbers: 27 24 33 23 87 ,  07 79 76 04 28 ,   \n",
      "05 74 13 37 22 , \n",
      "----------------------------------------\n",
      "Pharmacy: CARREFO UR KOBAKRO\n",
      "Responsible: M. BASSA KOUADIO MARTIAL  –\n",
      "Phone Numbers: 07 12 38 68 31\n",
      "----------------------------------------\n",
      "Pharmacy: DU MARCHE D’ANYAMA\n",
      "Responsible: MME DAH OLGA MOUSSOKORO EPSE DOSSO –\n",
      "Phone Numbers: 27 23 55 82 30 ,  31\n",
      "----------------------------------------\n",
      "Pharmacy: ME DEBA\n",
      "Responsible: MME ME DEBA YOVOSSI EVELYNE –\n",
      "Phone Numbers: 27 23 55 62 44 ,  01 01 05 26 44  ,  07 89 95 00 90\n",
      "----------------------------------------\n",
      "Pharmacy: ROUTE D’ANYAMA  (NVLLE)\n",
      "Responsible: M. M’BAO AKMEL HYACINTHE  –\n",
      "Phone Numbers: 01 52 78 88 33\n",
      "----------------------------------------\n"
     ]
    }
   ],
   "source": [
    "import re\n",
    "\n",
    "pattern = r'PHCIE\\s(.*?)/\\s*(M\\.|MME)\\s*(.*?\\s*)\\s*TEL\\.?\\s*:?([\\d\\s/]+)'\n",
    "matches = re.finditer(pattern, page_one, re.DOTALL)\n",
    "for match in matches:\n",
    "    pharmacy_name = match.group(1).strip()\n",
    "    title = match.group(2).strip()\n",
    "    responsible_name = match.group(3).strip()\n",
    "    phone_numbers = match.group(4).strip().replace('/', ', ')\n",
    "    print(f'Pharmacy: {pharmacy_name}')\n",
    "    print(f'Responsible: {title} {responsible_name}')\n",
    "    print(f'Phone Numbers: {phone_numbers}')\n",
    "    print('-' * 40)"
   ]
  },
  {
   "cell_type": "code",
   "execution_count": null,
   "metadata": {},
   "outputs": [],
   "source": []
  }
 ],
 "metadata": {
  "kernelspec": {
   "display_name": "Python 3",
   "language": "python",
   "name": "python3"
  },
  "language_info": {
   "codemirror_mode": {
    "name": "ipython",
    "version": 3
   },
   "file_extension": ".py",
   "mimetype": "text/x-python",
   "name": "python",
   "nbconvert_exporter": "python",
   "pygments_lexer": "ipython3",
   "version": "3.12.0"
  }
 },
 "nbformat": 4,
 "nbformat_minor": 2
}
